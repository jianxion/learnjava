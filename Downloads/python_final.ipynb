{
 "cells": [
  {
   "cell_type": "code",
   "execution_count": 3,
   "id": "2c8ce0c5-085c-473e-a7ca-beb0022a0c83",
   "metadata": {},
   "outputs": [],
   "source": [
    "import pandas as pd\n",
    "import numpy as np\n",
    "parking_meter = pd.read_csv(\"/Users/jianxiongshen/Downloads/parking_meter.csv\")"
   ]
  },
  {
   "cell_type": "code",
   "execution_count": 4,
   "id": "3a3cf611-239c-4cf8-85a9-c75b1bf83f63",
   "metadata": {},
   "outputs": [
    {
     "name": "stdout",
     "output_type": "stream",
     "text": [
      "2.0\n",
      "1093\n"
     ]
    }
   ],
   "source": [
    "print(np.median(parking_meter.meter_rate))\n",
    "print(sum(parking_meter.meter_rate > 5))\n",
    "# Answer to question 1: The median meter rate is 2 dollars. 1093 meters have a rate that is greater than five dollars."
   ]
  },
  {
   "cell_type": "code",
   "execution_count": 5,
   "id": "0610d5d5-9e4a-4fa9-81d2-53e5e0835dc7",
   "metadata": {},
   "outputs": [
    {
     "name": "stdout",
     "output_type": "stream",
     "text": [
      "57\n"
     ]
    }
   ],
   "source": [
    "print(9975 - (parking_meter.pay_phone.count()))\n",
    "# Answer to question 2: There are 57 missing values in the pay_phone variable."
   ]
  },
  {
   "cell_type": "code",
   "execution_count": 6,
   "id": "c2da3db8-2eaa-43d8-8ff2-485073ec2af6",
   "metadata": {},
   "outputs": [
    {
     "name": "stdout",
     "output_type": "stream",
     "text": [
      "meter_rate\n",
      "0.5      52\n",
      "1.0    3700\n",
      "1.5      19\n",
      "2.0    1954\n",
      "2.5      11\n",
      "3.0    1365\n",
      "3.5       7\n",
      "4.0     895\n",
      "5.0     879\n",
      "6.0     494\n",
      "7.0     361\n",
      "8.0     170\n",
      "9.0      68\n",
      "Name: meter_rate, dtype: int64\n"
     ]
    }
   ],
   "source": [
    "unique_rates = parking_meter.meter_rate.unique()\n",
    "print(parking_meter.groupby(['meter_rate'])['meter_rate'].count())\n",
    "# Answer to question 3: There are 13 unique meter rates in this dataset. Meter rate 1.0 is the most common this dataset."
   ]
  },
  {
   "cell_type": "code",
   "execution_count": 7,
   "id": "2b26aad4-57d5-4d40-8081-9fda6dbdbd66",
   "metadata": {},
   "outputs": [
    {
     "name": "stdout",
     "output_type": "stream",
     "text": [
      "3.9652076318742986\n",
      "2.46326132063957\n"
     ]
    }
   ],
   "source": [
    "print(np.mean(parking_meter.meter_rate[parking_meter.credit_card == 'Yes']))\n",
    "print(np.mean(parking_meter.meter_rate[parking_meter.credit_card == 'No']))\n",
    "# Answer to question 4: The mean meter rate for those meters with credit card functionality is 3.9652 dollars and the\n",
    "# mean meter rate for those meters without credit card functionality is 2.4633 dollars."
   ]
  },
  {
   "cell_type": "code",
   "execution_count": 8,
   "id": "48f9bbf2-27d7-4bf7-bacd-50d126211892",
   "metadata": {},
   "outputs": [
    {
     "name": "stdout",
     "output_type": "stream",
     "text": [
      "['West End', 'Strathcona', 'Riley Park', 'West Point Grey', 'Fairview', 'Downtown', 'South Cambie', 'Kitsilano', 'Mount Pleasant', 'Grandview-Woodland', 'Kerrisdale', 'Arbutus-Ridge', 'Renfrew-Collingwood', 'Killarney', 'Kensington-Cedar Cottage', 'Sunset', 'Hastings-Sunrise', 'Shaughnessy']\n"
     ]
    }
   ],
   "source": [
    "unique_region = parking_meter.geo_local_area.unique()\n",
    "unique_region_list = unique_region.tolist()\n",
    "print(unique_region_list)\n",
    "# Answer to question 5: Code above achieves the goal of this question."
   ]
  },
  {
   "cell_type": "code",
   "execution_count": 9,
   "id": "a83887ce-6a41-499d-9c9d-7c319b2fde07",
   "metadata": {},
   "outputs": [
    {
     "name": "stdout",
     "output_type": "stream",
     "text": [
      "(1.851685393258427, 1.0, 1.4674071269772149)\n"
     ]
    }
   ],
   "source": [
    "my_dict = {}\n",
    "for i in range(18):\n",
    "    my_mean = np.mean(parking_meter.meter_rate[parking_meter.geo_local_area == unique_region_list[i]])\n",
    "    my_median = np.median(parking_meter.meter_rate[parking_meter.geo_local_area == unique_region_list[i]])\n",
    "    my_std = np.std(parking_meter.meter_rate[parking_meter.geo_local_area == unique_region_list[i]])\n",
    "    my_dict[unique_region_list[i]] = (my_mean, my_median, my_std)\n",
    "    \n",
    "print(my_dict['Mount Pleasant'])\n",
    "# Answer to question 6: The mean, median, and standard deviation of the meter rates in the “Mount Pleasant” region \n",
    "# are 1.8517, 1.0 and 1.4674, respectively.parking_meter"
   ]
  },
  {
   "cell_type": "code",
   "execution_count": 10,
   "id": "6fff2a9c-9912-4909-9da1-d08681e477d3",
   "metadata": {},
   "outputs": [
    {
     "name": "stderr",
     "output_type": "stream",
     "text": [
      "/var/folders/p2/5q_v38t93k39gw_qqvly_8mm0000gn/T/ipykernel_71936/1129258145.py:7: SettingWithCopyWarning: \n",
      "A value is trying to be set on a copy of a slice from a DataFrame\n",
      "\n",
      "See the caveats in the documentation: https://pandas.pydata.org/pandas-docs/stable/user_guide/indexing.html#returning-a-view-versus-a-copy\n",
      "  parking_meter[\"neighborhood_avg\"][i] = np.mean(parking_meter.meter_rate[(parking_meter.longitude > parking_meter.longitude[i] - 0.001) &\n"
     ]
    }
   ],
   "source": [
    "parking_meter[\"neighborhood_avg\"] = 0\n",
    "for i in range(9975):\n",
    "    if (sum((parking_meter.longitude > parking_meter.longitude[i] - 0.001) & \n",
    "            (parking_meter.longitude < parking_meter.longitude[i] + 0.001) &\n",
    "            (parking_meter.latitude > parking_meter.latitude[i] - 0.001) & \n",
    "            (parking_meter.latitude < parking_meter.latitude[i] + 0.001))!= 0):\n",
    "        parking_meter[\"neighborhood_avg\"][i] = np.mean(parking_meter.meter_rate[(parking_meter.longitude > parking_meter.longitude[i] - 0.001) & \n",
    "            (parking_meter.longitude < parking_meter.longitude[i] + 0.001) &\n",
    "            (parking_meter.latitude > parking_meter.latitude[i] - 0.001) & \n",
    "            (parking_meter.latitude < parking_meter.latitude[i] + 0.001)])\n",
    "        \n",
    "# Answer to question 7: Code above achieves the goal of this question."
   ]
  },
  {
   "cell_type": "code",
   "execution_count": 11,
   "id": "2ea26cf6-4d6c-4647-ab21-7327906ca0f2",
   "metadata": {},
   "outputs": [
    {
     "name": "stdout",
     "output_type": "stream",
     "text": [
      "    meter_head  meter_rate                        time_in_effect  time_limit  \\\n",
      "0         Twin         2.0  METER IN EFFECT: 9:00 AM TO 10:00 PM           2   \n",
      "1  Pay Station         1.0  METER IN EFFECT: 9:00 AM TO 10:00 PM          10   \n",
      "2         Twin         1.0  METER IN EFFECT: 9:00 AM TO 10:00 PM           2   \n",
      "3       Single         1.0  METER IN EFFECT: 9:00 AM TO 10:00 PM           2   \n",
      "4         Twin         2.0  METER IN EFFECT: 9:00 AM TO 10:00 PM           2   \n",
      "5         Twin         2.0  METER IN EFFECT: 9:00 AM TO 10:00 PM           3   \n",
      "\n",
      "  credit_card pay_phone   longitude   latitude   geo_local_area meter_id  \\\n",
      "0          No     66890 -123.128871  49.286901         West End   670805   \n",
      "1         Yes     59916 -123.098183  49.272146       Strathcona   471405   \n",
      "2          No     57042 -123.101308  49.254679       Riley Park   C80145   \n",
      "3          No     57159 -123.186228  49.263409  West Point Grey   D03704   \n",
      "4          No     51104 -123.127840  49.263541         Fairview   301023   \n",
      "5          No     60868 -123.126473  49.274312         Downtown   591318   \n",
      "\n",
      "   neighborhood_avg  \n",
      "0          1.388889  \n",
      "1          1.000000  \n",
      "2          0.986111  \n",
      "3          0.979167  \n",
      "4          2.750000  \n",
      "5          1.784615  \n",
      "       meter_head  meter_rate                        time_in_effect  \\\n",
      "0            Twin         2.0  METER IN EFFECT: 9:00 AM TO 10:00 PM   \n",
      "1     Pay Station         1.0  METER IN EFFECT: 9:00 AM TO 10:00 PM   \n",
      "2            Twin         1.0  METER IN EFFECT: 9:00 AM TO 10:00 PM   \n",
      "3          Single         1.0  METER IN EFFECT: 9:00 AM TO 10:00 PM   \n",
      "4            Twin         2.0  METER IN EFFECT: 9:00 AM TO 10:00 PM   \n",
      "...           ...         ...                                   ...   \n",
      "9970         Twin         1.0  METER IN EFFECT: 9:00 AM TO 10:00 PM   \n",
      "9971         Twin         1.0  METER IN EFFECT: 9:00 AM TO 10:00 PM   \n",
      "9972         Twin         1.0  METER IN EFFECT: 9:00 AM TO 10:00 PM   \n",
      "9973         Twin         1.0  METER IN EFFECT: 9:00 AM TO 10:00 PM   \n",
      "9974         Twin         1.0  METER IN EFFECT: 9:00 AM TO 10:00 PM   \n",
      "\n",
      "      time_limit credit_card pay_phone   longitude   latitude  \\\n",
      "0              2          No     66890 -123.128871  49.286901   \n",
      "1             10         Yes     59916 -123.098183  49.272146   \n",
      "2              2          No     57042 -123.101308  49.254679   \n",
      "3              2          No     57159 -123.186228  49.263409   \n",
      "4              2          No     51104 -123.127840  49.263541   \n",
      "...          ...         ...       ...         ...        ...   \n",
      "9970           2          No     60681 -123.121728  49.278504   \n",
      "9971           3          No     62918 -123.123200  49.277373   \n",
      "9972           3          No     64990 -123.122926  49.277042   \n",
      "9973           3          No     61874 -123.123063  49.277131   \n",
      "9974           3          No     64906 -123.123452  49.277381   \n",
      "\n",
      "       geo_local_area meter_id  neighborhood_avg  region_average  \n",
      "0            West End   670805          1.388889        2.751596  \n",
      "1          Strathcona   471405          1.000000        1.904528  \n",
      "2          Riley Park   C80145          0.986111        1.575000  \n",
      "3     West Point Grey   D03704          0.979167        0.997175  \n",
      "4            Fairview   301023          2.750000        3.222736  \n",
      "...               ...      ...               ...             ...  \n",
      "9970         Downtown   140513          0.993590        3.314060  \n",
      "9971         Downtown   150515          1.335106        3.314060  \n",
      "9972         Downtown   150502          1.677885        3.314060  \n",
      "9973         Downtown   150508          1.479381        3.314060  \n",
      "9974         Downtown   150514          1.214286        3.314060  \n",
      "\n",
      "[9975 rows x 12 columns]\n"
     ]
    }
   ],
   "source": [
    "region_mean = parking_meter.groupby('geo_local_area').mean().meter_rate\n",
    "print(parking_meter.head(6))\n",
    "region_avg = np.zeros(9975)\n",
    "for i in range(9975):\n",
    "    region_avg[i] = region_mean[parking_meter.geo_local_area[i]]\n",
    "    \n",
    "parking_meter['region_average'] = region_avg\n",
    "print(parking_meter)\n",
    "\n",
    "# Answer to question 8: Code above achieves the goal of this question."
   ]
  },
  {
   "cell_type": "code",
   "execution_count": 12,
   "id": "63792c4a-1309-4da9-b325-532a036ca772",
   "metadata": {},
   "outputs": [
    {
     "name": "stdout",
     "output_type": "stream",
     "text": [
      "8499    993385\n",
      "Name: meter_id, dtype: object\n",
      "3285    B80109\n",
      "Name: meter_id, dtype: object\n"
     ]
    }
   ],
   "source": [
    "max_long = np.max(parking_meter.longitude)\n",
    "print(parking_meter.meter_id[parking_meter.longitude == max_long])\n",
    "max_diff = np.max(parking_meter.meter_rate - parking_meter.neighborhood_avg)\n",
    "print(parking_meter.meter_id[(parking_meter.meter_rate - parking_meter.neighborhood_avg) == max_diff])\n",
    "# Answer to question 9: The meter_id of the meter with the largest value of longitude is 993385. Also, the meter_id of the meter whose\n",
    "# difference between the meter rate and the neighborhood average is the largest is B80109."
   ]
  },
  {
   "cell_type": "code",
   "execution_count": 179,
   "id": "56b734cc-8417-408d-af4c-0e996deece5c",
   "metadata": {},
   "outputs": [
    {
     "name": "stdout",
     "output_type": "stream",
     "text": [
      "[0.2313656795491723, 0.02696595056134094]\n"
     ]
    }
   ],
   "source": [
    "corr1 = np.corrcoef(parking_meter.latitude, parking_meter.meter_rate)[0,1]\n",
    "corr2 = np.corrcoef(parking_meter.longitude, parking_meter.meter_rate)[0,1]\n",
    "print([corr1, corr2])\n",
    "# Answer to question 10: The correlation between latitude and meter rate is 0.2313. The correlation\n",
    "# between longitude and meter rate is 0.0269."
   ]
  },
  {
   "cell_type": "code",
   "execution_count": 82,
   "id": "e6598a27-adac-43b8-abf6-c122eae6295a",
   "metadata": {},
   "outputs": [
    {
     "data": {
      "image/png": "[encoded data removed]",
      "text/plain": [
       "<Figure size 432x288 with 1 Axes>"
      ]
     },
     "metadata": {
      "needs_background": "light"
     },
     "output_type": "display_data"
    }
   ],
   "source": [
    "import matplotlib.pyplot as plt\n",
    "import seaborn as sns\n",
    "import textwrap\n",
    "ax = sns.boxplot(y = 'geo_local_area', x = 'meter_rate', data = parking_meter)\n",
    "plt.show()"
   ]
  },
  {
   "cell_type": "code",
   "execution_count": 17,
   "id": "13e00d6b-22fb-412b-aebd-50b1f66789f6",
   "metadata": {},
   "outputs": [
    {
     "name": "stdout",
     "output_type": "stream",
     "text": [
      "        meter_rate     latitude\n",
      "count  9975.000000  9975.000000\n",
      "mean      2.731579    49.271827\n",
      "std       1.945172     0.012945\n",
      "min       0.500000    49.210697\n",
      "25%       1.000000    49.263873\n",
      "50%       2.000000    49.273992\n",
      "75%       4.000000    49.281605\n",
      "max       9.000000    49.293292\n"
     ]
    },
    {
     "data": {
      "text/plain": [
       "<matplotlib.collections.PathCollection at 0x7f9daa19e160>"
      ]
     },
     "execution_count": 17,
     "metadata": {},
     "output_type": "execute_result"
    },
    {
     "data": {
      "image/png": "[encoded data removed]",
      "text/plain": [
       "<Figure size 432x288 with 1 Axes>"
      ]
     },
     "metadata": {
      "needs_background": "light"
     },
     "output_type": "display_data"
    }
   ],
   "source": [
    "import matplotlib.pyplot as plt\n",
    "import seaborn as sns\n",
    "import textwrap\n",
    "fig = plt.figure()\n",
    "ax = fig.add_subplot(1,1,1)\n",
    "print( parking_meter[['meter_rate','latitude']].describe())\n",
    "ax.set_xlim([0, 10])\n",
    "ax.set_ylim([49.20, 49.30])\n",
    "ax.scatter(parking_meter['meter_rate'], parking_meter['latitude'])"
   ]
  }
 ],
 "metadata": {
  "kernelspec": {
   "display_name": "Python 3 (ipykernel)",
   "language": "python",
   "name": "python3"
  },
  "language_info": {
   "codemirror_mode": {
    "name": "ipython",
    "version": 3
   },
   "file_extension": ".py",
   "mimetype": "text/x-python",
   "name": "python",
   "nbconvert_exporter": "python",
   "pygments_lexer": "ipython3",
   "version": "3.9.12"
  }
 },
 "nbformat": 4,
 "nbformat_minor": 5
}
